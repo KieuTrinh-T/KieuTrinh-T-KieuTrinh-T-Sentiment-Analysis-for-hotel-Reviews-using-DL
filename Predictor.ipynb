{
 "cells": [
  {
   "cell_type": "code",
   "execution_count": 13,
   "metadata": {},
   "outputs": [],
   "source": [
    "import ktrain\n",
    "from keras.models import Sequential,load_model\n",
    "from keras.preprocessing.text import Tokenizer\n",
    "import numpy as np\n",
    "import pandas as pd\n",
    "from keras.utils import pad_sequences"
   ]
  },
  {
   "cell_type": "code",
   "execution_count": 16,
   "metadata": {},
   "outputs": [],
   "source": [
    "df = pd.read_csv('Dataset/train.csv')"
   ]
  },
  {
   "cell_type": "code",
   "execution_count": 17,
   "metadata": {},
   "outputs": [
    {
     "name": "stdout",
     "output_type": "stream",
     "text": [
      "Found 167558 unique tokens.\n"
     ]
    }
   ],
   "source": [
    "# The maximum number of words to be used. (most frequent)\n",
    "MAX_NB_WORDS = 50000\n",
    "# Max number of words in each review.\n",
    "MAX_SEQUENCE_LENGTH = 250\n",
    "# This is fixed.\n",
    "EMBEDDING_DIM = 100\n",
    "tokenizer = Tokenizer(num_words=MAX_NB_WORDS, filters='!\"#$%&()*+,-./:;<=>?@[\\]^_`{|}~', lower=True)\n",
    "tokenizer.fit_on_texts(df['Review'].values)\n",
    "word_index = tokenizer.word_index\n",
    "print('Found %s unique tokens.' % len(word_index))"
   ]
  },
  {
   "cell_type": "code",
   "execution_count": 18,
   "metadata": {},
   "outputs": [
    {
     "name": "stdout",
     "output_type": "stream",
     "text": [
      "1/1 [==============================] - 0s 382ms/step\n",
      "Accomodation is very comfortable and homely..\n",
      "[[0.18695804 0.41320965 0.8367338 ]] positive\n",
      "1/1 [==============================] - 0s 153ms/step\n",
      "The hotel is in a great location, close to the main shopping area and the waterfront.\n",
      "[[0.20958386 0.40809515 0.80537105]] positive\n",
      "1/1 [==============================] - 0s 107ms/step\n",
      "We are so pleased we stayed here .Such a great escape from the big city .The air was clean and it was so relaxed.Ken and his wife were super hosts and nothing was too much trouble for the staff.\n",
      "[[0.05279048 0.27876338 0.9597071 ]] positive\n",
      "1/1 [==============================] - 0s 93ms/step\n",
      "Breakfast was pretty much the worst thing we had in our Vietnam trip and without repeated demand whether a taxi would come in 10 minutes, we would not have made it to the bus station in time.\n",
      "[[0.0633774  0.32227808 0.94363797]] positive\n"
     ]
    }
   ],
   "source": [
    "trial_review = ['Accomodation is very comfortable and homely..',\n",
    "                'The hotel is in a great location, close to the main shopping area and the waterfront.',\n",
    "                'We are so pleased we stayed here .Such a great escape from the big city .The air was clean and it was so relaxed.Ken and his wife were super hosts and nothing was too much trouble for the staff.',\n",
    "                'Breakfast was pretty much the worst thing we had in our Vietnam trip and without repeated demand whether a taxi would come in 10 minutes, we would not have made it to the bus station in time.']\n",
    "for review in trial_review:\n",
    "    seq = tokenizer.texts_to_sequences([review])\n",
    "    padded = pad_sequences(seq, maxlen=MAX_SEQUENCE_LENGTH)\n",
    "    pred = lstm_model.predict(padded)\n",
    "    labels = ['negative', 'neutral', 'positive']\n",
    "    print(review)\n",
    "    print(pred, labels[np.argmax(pred)])"
   ]
  },
  {
   "cell_type": "code",
   "execution_count": 28,
   "metadata": {},
   "outputs": [],
   "source": [
    "import pickle\n",
    "\n",
    "# saving\n",
    "with open('tokenizer.pickle', 'wb') as handle:\n",
    "    pickle.dump(tokenizer, handle, protocol=pickle.HIGHEST_PROTOCOL)\n",
    "\n",
    "# loading\n",
    "with open('tokenizer.pickle', 'rb') as handle:\n",
    "    tokenizer = pickle.load(handle)"
   ]
  },
  {
   "cell_type": "code",
   "execution_count": 15,
   "metadata": {},
   "outputs": [],
   "source": [
    "lstm_model = load_model('Models/lstm_model2.h5')"
   ]
  },
  {
   "cell_type": "code",
   "execution_count": 19,
   "metadata": {},
   "outputs": [],
   "source": [
    "predictor = ktrain.load_predictor('Models/distilBert')"
   ]
  },
  {
   "cell_type": "code",
   "execution_count": 20,
   "metadata": {},
   "outputs": [
    {
     "data": {
      "text/plain": [
       "['Sentiment_2', 'Sentiment_2', 'Sentiment_2', 'Sentiment_0']"
      ]
     },
     "execution_count": 20,
     "metadata": {},
     "output_type": "execute_result"
    }
   ],
   "source": [
    "predictor.predict(trial_review)"
   ]
  },
  {
   "cell_type": "code",
   "execution_count": 21,
   "metadata": {},
   "outputs": [],
   "source": [
    "import requests\n",
    "import json"
   ]
  },
  {
   "cell_type": "code",
   "execution_count": 22,
   "metadata": {},
   "outputs": [
    {
     "name": "stdout",
     "output_type": "stream",
     "text": [
      "Hello World\n"
     ]
    }
   ],
   "source": [
    "host = 'localhost'\n",
    "port = 5000\n",
    "\n",
    "url = 'http://localhost:5000/'\n",
    "\n",
    "x = requests.get(url)\n",
    "print(x.text)"
   ]
  },
  {
   "cell_type": "code",
   "execution_count": 25,
   "metadata": {},
   "outputs": [
    {
     "data": {
      "text/plain": [
       "'{\"Review\": \"Accomodation is dirty\"}'"
      ]
     },
     "execution_count": 25,
     "metadata": {},
     "output_type": "execute_result"
    }
   ],
   "source": [
    "url = 'http://localhost:5000/'\n",
    "data = {'Review': 'Accomodation is dirty'\t}\n",
    "data = json.dumps(data)\n",
    "\n",
    "data"
   ]
  },
  {
   "cell_type": "code",
   "execution_count": 27,
   "metadata": {},
   "outputs": [
    {
     "name": "stdout",
     "output_type": "stream",
     "text": [
      "{\n",
      "  \"result\": \"Sentiment_0\"\n",
      "}\n",
      "\n"
     ]
    }
   ],
   "source": [
    "url = 'http://localhost:5000/predict'\n",
    "x = requests.post(url, data)\n",
    "print(x.text)"
   ]
  }
 ],
 "metadata": {
  "kernelspec": {
   "display_name": "Python 3",
   "language": "python",
   "name": "python3"
  },
  "language_info": {
   "codemirror_mode": {
    "name": "ipython",
    "version": 3
   },
   "file_extension": ".py",
   "mimetype": "text/x-python",
   "name": "python",
   "nbconvert_exporter": "python",
   "pygments_lexer": "ipython3",
   "version": "3.10.10"
  },
  "orig_nbformat": 4
 },
 "nbformat": 4,
 "nbformat_minor": 2
}
